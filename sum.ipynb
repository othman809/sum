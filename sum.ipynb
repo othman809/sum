{
 "cells": [
  {
   "cell_type": "code",
   "execution_count": 10,
   "id": "d8bbef26-d8da-47b9-bf1a-93a3dec76b2b",
   "metadata": {},
   "outputs": [],
   "source": [
    "def sum(numbers):\n",
    "    total = 0\n",
    "    for num in numbers:\n",
    "        total += num\n",
    "    return total"
   ]
  },
  {
   "cell_type": "code",
   "execution_count": 11,
   "id": "396e8e76-72d0-4041-8627-e16b32d27ffb",
   "metadata": {},
   "outputs": [],
   "source": [
    "def test_sum():\n",
    "    assert sum([1, 2, 3]) == 6, \"Should be 6\"\n",
    "    assert sum([-1, 0, 1]) == 0, \"Should be 0\"\n",
    "    assert sum([]) == 0, \"Should be 0 (empty list)\"\n",
    "    assert sum([10]) == 10, \"Should be 10 (single element)\""
   ]
  },
  {
   "cell_type": "code",
   "execution_count": 12,
   "id": "39b7996a-3d41-4f36-b5f3-48392d931431",
   "metadata": {},
   "outputs": [],
   "source": [
    "# Run the test\n",
    "test_sum()"
   ]
  },
  {
   "cell_type": "code",
   "execution_count": null,
   "id": "63c1bfcd-46d2-4b12-9ad7-4828a57f074b",
   "metadata": {},
   "outputs": [],
   "source": []
  }
 ],
 "metadata": {
  "kernelspec": {
   "display_name": "Python 3 (ipykernel)",
   "language": "python",
   "name": "python3"
  },
  "language_info": {
   "codemirror_mode": {
    "name": "ipython",
    "version": 3
   },
   "file_extension": ".py",
   "mimetype": "text/x-python",
   "name": "python",
   "nbconvert_exporter": "python",
   "pygments_lexer": "ipython3",
   "version": "3.12.7"
  }
 },
 "nbformat": 4,
 "nbformat_minor": 5
}
